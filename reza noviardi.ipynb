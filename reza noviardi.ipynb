{
 "cells": [
  {
   "cell_type": "code",
   "execution_count": 4,
   "metadata": {},
   "outputs": [],
   "source": [
    "import warnings\n",
    "warnings.filterwarnings('ignore')"
   ]
  },
  {
   "cell_type": "markdown",
   "metadata": {},
   "source": [
    "## Petrophysics calculation"
   ]
  },
  {
   "cell_type": "code",
   "execution_count": 5,
   "metadata": {},
   "outputs": [
    {
     "name": "stdout",
     "output_type": "stream",
     "text": [
      "         CALI       DT      GR    ILD   MSFL  NPHI_LS   RHOB\n",
      "DEPTH                                                       \n",
      "3001.0  9.984  148.500  80.875  0.722  0.991  0.43701  2.170\n",
      "3001.5  9.938  148.625  80.875  0.718  1.026  0.47705  2.176\n",
      "3002.0  9.914  146.125  80.625  0.714  0.990  0.45947  2.166\n",
      "3002.5  9.859  145.375  82.625  0.715  0.953  0.47754  2.158\n",
      "3003.0  9.914  145.125  81.938  0.709  0.900  0.45508  2.156\n",
      "...       ...      ...     ...    ...    ...      ...    ...\n",
      "4458.0  8.484  109.000  79.812  1.122  1.744  0.33252  2.316\n",
      "4458.5  8.469  109.438  82.312  1.112  1.972  0.34082  2.326\n",
      "4459.0  8.484  109.562  77.188  1.092  1.959  0.35693  2.316\n",
      "4459.5  8.461  110.750  75.250  1.079  1.746  0.37256  2.311\n",
      "4460.0  8.469  110.938  75.188  1.067  1.625  0.36768  2.307\n",
      "\n",
      "[2919 rows x 7 columns]\n"
     ]
    }
   ],
   "source": [
    "import lasio\n",
    "las=lasio.read('well-1.las') \n",
    "\n",
    "#convert the las file to pandas dataframe, this will automatically retain the logname and made the depth as index column\n",
    "well=las.df()\n",
    "print (well)"
   ]
  },
  {
   "cell_type": "code",
   "execution_count": 7,
   "metadata": {},
   "outputs": [
    {
     "name": "stdout",
     "output_type": "stream",
     "text": [
      "         CALI       DT      GR    ILD   MSFL  NPHI_LS   RHOB\n",
      "DEPTH                                                       \n",
      "3338.0  8.617  123.625  88.812  1.006  1.292  0.48193  2.264\n",
      "3338.5  8.562  116.875  79.500  1.182  1.258  0.46924  2.320\n",
      "3339.0  8.594  100.000  68.562  1.417  1.250  0.37354  2.408\n",
      "3339.5  8.492   83.938  51.500  1.742  1.430  0.21143  2.562\n",
      "3340.0  8.297   65.750  33.844  2.174  7.311  0.13428  2.668\n",
      "...       ...      ...     ...    ...    ...      ...    ...\n",
      "3749.5  8.555  130.625  85.000  0.773  0.873  0.43115  2.184\n",
      "3750.0  8.648  130.875  87.500  0.772  0.891  0.43164  2.170\n",
      "3750.5  8.680  130.875  86.250  0.775  1.158  0.44092  2.178\n",
      "3751.0  8.727  129.375  89.188  0.773  1.072  0.42285  2.184\n",
      "3751.5  8.633  129.500  89.688  0.772  1.035  0.40430  2.191\n",
      "\n",
      "[828 rows x 7 columns]\n"
     ]
    }
   ],
   "source": [
    "KujungFM=well.loc[3337.79:3751.5]\n",
    "print (KujungFM)"
   ]
  },
  {
   "cell_type": "code",
   "execution_count": 9,
   "metadata": {},
   "outputs": [],
   "source": [
    "#this code is adapted from andy mcdonald\n",
    "\n",
    "def shale_volume(gamma_ray, gamma_ray_max, gamma_ray_min): #specify the arguments\n",
    "    vshale = (gamma_ray - gamma_ray_min) / (gamma_ray_max - gamma_ray_min) #use the argument to the equation using math operators\n",
    "    return round(vshale, 4)\n",
    "\n",
    "def density_porosity(input_density, matrix_density, fluid_density):\n",
    "    denpor = (matrix_density - input_density) / (matrix_density - fluid_density)\n",
    "    return round(denpor, 4)"
   ]
  },
  {
   "cell_type": "code",
   "execution_count": 10,
   "metadata": {},
   "outputs": [
    {
     "data": {
      "text/html": [
       "<div>\n",
       "<style scoped>\n",
       "    .dataframe tbody tr th:only-of-type {\n",
       "        vertical-align: middle;\n",
       "    }\n",
       "\n",
       "    .dataframe tbody tr th {\n",
       "        vertical-align: top;\n",
       "    }\n",
       "\n",
       "    .dataframe thead th {\n",
       "        text-align: right;\n",
       "    }\n",
       "</style>\n",
       "<table border=\"1\" class=\"dataframe\">\n",
       "  <thead>\n",
       "    <tr style=\"text-align: right;\">\n",
       "      <th></th>\n",
       "      <th>CALI</th>\n",
       "      <th>DT</th>\n",
       "      <th>GR</th>\n",
       "      <th>ILD</th>\n",
       "      <th>MSFL</th>\n",
       "      <th>NPHI_LS</th>\n",
       "      <th>RHOB</th>\n",
       "      <th>VSHALE</th>\n",
       "      <th>PHI</th>\n",
       "    </tr>\n",
       "    <tr>\n",
       "      <th>DEPTH</th>\n",
       "      <th></th>\n",
       "      <th></th>\n",
       "      <th></th>\n",
       "      <th></th>\n",
       "      <th></th>\n",
       "      <th></th>\n",
       "      <th></th>\n",
       "      <th></th>\n",
       "      <th></th>\n",
       "    </tr>\n",
       "  </thead>\n",
       "  <tbody>\n",
       "    <tr>\n",
       "      <th>3338.0</th>\n",
       "      <td>8.617</td>\n",
       "      <td>123.625</td>\n",
       "      <td>88.812</td>\n",
       "      <td>1.006</td>\n",
       "      <td>1.292</td>\n",
       "      <td>0.48193</td>\n",
       "      <td>2.264</td>\n",
       "      <td>0.8678</td>\n",
       "      <td>0.2339</td>\n",
       "    </tr>\n",
       "    <tr>\n",
       "      <th>3338.5</th>\n",
       "      <td>8.562</td>\n",
       "      <td>116.875</td>\n",
       "      <td>79.500</td>\n",
       "      <td>1.182</td>\n",
       "      <td>1.258</td>\n",
       "      <td>0.46924</td>\n",
       "      <td>2.320</td>\n",
       "      <td>0.7119</td>\n",
       "      <td>0.2000</td>\n",
       "    </tr>\n",
       "    <tr>\n",
       "      <th>3339.0</th>\n",
       "      <td>8.594</td>\n",
       "      <td>100.000</td>\n",
       "      <td>68.562</td>\n",
       "      <td>1.417</td>\n",
       "      <td>1.250</td>\n",
       "      <td>0.37354</td>\n",
       "      <td>2.408</td>\n",
       "      <td>0.5289</td>\n",
       "      <td>0.1467</td>\n",
       "    </tr>\n",
       "    <tr>\n",
       "      <th>3339.5</th>\n",
       "      <td>8.492</td>\n",
       "      <td>83.938</td>\n",
       "      <td>51.500</td>\n",
       "      <td>1.742</td>\n",
       "      <td>1.430</td>\n",
       "      <td>0.21143</td>\n",
       "      <td>2.562</td>\n",
       "      <td>0.2433</td>\n",
       "      <td>0.0533</td>\n",
       "    </tr>\n",
       "    <tr>\n",
       "      <th>3340.0</th>\n",
       "      <td>8.297</td>\n",
       "      <td>65.750</td>\n",
       "      <td>33.844</td>\n",
       "      <td>2.174</td>\n",
       "      <td>7.311</td>\n",
       "      <td>0.13428</td>\n",
       "      <td>2.668</td>\n",
       "      <td>-0.0522</td>\n",
       "      <td>-0.0109</td>\n",
       "    </tr>\n",
       "  </tbody>\n",
       "</table>\n",
       "</div>"
      ],
      "text/plain": [
       "         CALI       DT      GR    ILD   MSFL  NPHI_LS   RHOB  VSHALE     PHI\n",
       "DEPTH                                                                       \n",
       "3338.0  8.617  123.625  88.812  1.006  1.292  0.48193  2.264  0.8678  0.2339\n",
       "3338.5  8.562  116.875  79.500  1.182  1.258  0.46924  2.320  0.7119  0.2000\n",
       "3339.0  8.594  100.000  68.562  1.417  1.250  0.37354  2.408  0.5289  0.1467\n",
       "3339.5  8.492   83.938  51.500  1.742  1.430  0.21143  2.562  0.2433  0.0533\n",
       "3340.0  8.297   65.750  33.844  2.174  7.311  0.13428  2.668 -0.0522 -0.0109"
      ]
     },
     "execution_count": 10,
     "metadata": {},
     "output_type": "execute_result"
    }
   ],
   "source": [
    "mDens= 2.65\n",
    "fDens= 1\n",
    "KujungFM['VSHALE']=shale_volume(KujungFM['GR'], KujungFM['GR'].quantile(q=0.99),\n",
    "                             KujungFM['GR'].quantile(q=0.01))\n",
    "KujungFM['PHI']=density_porosity(KujungFM['RHOB'], mDens, fDens)\n",
    "KujungFM.head()"
   ]
  },
  {
   "cell_type": "markdown",
   "metadata": {},
   "source": [
    "### Calculate RW and SW\n",
    "\n",
    "**Apparent water formation resistivity using Hingle method**\n",
    "<img src=https://github.com/partsolco/python-geo-20feb2021/blob/main/images/rw.PNG?raw=true>\n",
    "\n",
    "**SW:**\n",
    "<img src=https://github.com/partsolco/python-geo-20feb2021/blob/main/images/sw_archie.png?raw=true>"
   ]
  },
  {
   "cell_type": "code",
   "execution_count": 11,
   "metadata": {},
   "outputs": [],
   "source": [
    "def rw_app(porosity, archieA, archieM, rt):\n",
    "    rw= (porosity**archieM*rt/archieA)\n",
    "    return rw\n",
    "\n",
    "def sw_archie(porosity, rt, rw, archieA, archieM, archieN):\n",
    "    sw = ((archieA / (porosity ** archieM)) * (rw/rt))**(1/archieN)\n",
    "    return sw\n",
    "\n",
    "archieA= 1\n",
    "archieM= 2\n",
    "archieN= 2"
   ]
  },
  {
   "cell_type": "code",
   "execution_count": 12,
   "metadata": {},
   "outputs": [],
   "source": [
    "KujungFM['rw']=rw_app(KujungFM['NPHI_LS'],archieA,archieM,KujungFM['ILD'])\n",
    "KujungFM['SW'] = sw_archie(KujungFM['NPHI_LS'],KujungFM['ILD'],KujungFM['rw'],archieA,archieM,archieN)"
   ]
  },
  {
   "cell_type": "code",
   "execution_count": 13,
   "metadata": {},
   "outputs": [
    {
     "data": {
      "text/html": [
       "<div>\n",
       "<style scoped>\n",
       "    .dataframe tbody tr th:only-of-type {\n",
       "        vertical-align: middle;\n",
       "    }\n",
       "\n",
       "    .dataframe tbody tr th {\n",
       "        vertical-align: top;\n",
       "    }\n",
       "\n",
       "    .dataframe thead th {\n",
       "        text-align: right;\n",
       "    }\n",
       "</style>\n",
       "<table border=\"1\" class=\"dataframe\">\n",
       "  <thead>\n",
       "    <tr style=\"text-align: right;\">\n",
       "      <th></th>\n",
       "      <th>CALI</th>\n",
       "      <th>DT</th>\n",
       "      <th>GR</th>\n",
       "      <th>ILD</th>\n",
       "      <th>MSFL</th>\n",
       "      <th>NPHI_LS</th>\n",
       "      <th>RHOB</th>\n",
       "    </tr>\n",
       "  </thead>\n",
       "  <tbody>\n",
       "    <tr>\n",
       "      <th>count</th>\n",
       "      <td>2919.000000</td>\n",
       "      <td>2919.000000</td>\n",
       "      <td>2919.000000</td>\n",
       "      <td>2919.000000</td>\n",
       "      <td>2919.000000</td>\n",
       "      <td>2919.000000</td>\n",
       "      <td>2919.000000</td>\n",
       "    </tr>\n",
       "    <tr>\n",
       "      <th>mean</th>\n",
       "      <td>8.893338</td>\n",
       "      <td>118.309119</td>\n",
       "      <td>74.181216</td>\n",
       "      <td>1.043017</td>\n",
       "      <td>1.556427</td>\n",
       "      <td>0.380029</td>\n",
       "      <td>2.206859</td>\n",
       "    </tr>\n",
       "    <tr>\n",
       "      <th>std</th>\n",
       "      <td>0.600544</td>\n",
       "      <td>12.618610</td>\n",
       "      <td>11.396476</td>\n",
       "      <td>0.346950</td>\n",
       "      <td>2.492693</td>\n",
       "      <td>0.052755</td>\n",
       "      <td>0.092249</td>\n",
       "    </tr>\n",
       "    <tr>\n",
       "      <th>min</th>\n",
       "      <td>7.629000</td>\n",
       "      <td>57.625000</td>\n",
       "      <td>17.641000</td>\n",
       "      <td>0.533000</td>\n",
       "      <td>0.307000</td>\n",
       "      <td>0.119630</td>\n",
       "      <td>1.696000</td>\n",
       "    </tr>\n",
       "    <tr>\n",
       "      <th>25%</th>\n",
       "      <td>8.461000</td>\n",
       "      <td>110.188000</td>\n",
       "      <td>68.500000</td>\n",
       "      <td>0.826000</td>\n",
       "      <td>0.988000</td>\n",
       "      <td>0.346190</td>\n",
       "      <td>2.174000</td>\n",
       "    </tr>\n",
       "    <tr>\n",
       "      <th>50%</th>\n",
       "      <td>8.734000</td>\n",
       "      <td>117.812000</td>\n",
       "      <td>76.250000</td>\n",
       "      <td>0.993000</td>\n",
       "      <td>1.275000</td>\n",
       "      <td>0.380370</td>\n",
       "      <td>2.219000</td>\n",
       "    </tr>\n",
       "    <tr>\n",
       "      <th>75%</th>\n",
       "      <td>9.242000</td>\n",
       "      <td>126.125000</td>\n",
       "      <td>81.938000</td>\n",
       "      <td>1.214000</td>\n",
       "      <td>1.549000</td>\n",
       "      <td>0.416020</td>\n",
       "      <td>2.256000</td>\n",
       "    </tr>\n",
       "    <tr>\n",
       "      <th>max</th>\n",
       "      <td>12.773000</td>\n",
       "      <td>156.250000</td>\n",
       "      <td>101.188000</td>\n",
       "      <td>6.004000</td>\n",
       "      <td>48.177000</td>\n",
       "      <td>0.523440</td>\n",
       "      <td>2.719000</td>\n",
       "    </tr>\n",
       "  </tbody>\n",
       "</table>\n",
       "</div>"
      ],
      "text/plain": [
       "              CALI           DT           GR          ILD         MSFL  \\\n",
       "count  2919.000000  2919.000000  2919.000000  2919.000000  2919.000000   \n",
       "mean      8.893338   118.309119    74.181216     1.043017     1.556427   \n",
       "std       0.600544    12.618610    11.396476     0.346950     2.492693   \n",
       "min       7.629000    57.625000    17.641000     0.533000     0.307000   \n",
       "25%       8.461000   110.188000    68.500000     0.826000     0.988000   \n",
       "50%       8.734000   117.812000    76.250000     0.993000     1.275000   \n",
       "75%       9.242000   126.125000    81.938000     1.214000     1.549000   \n",
       "max      12.773000   156.250000   101.188000     6.004000    48.177000   \n",
       "\n",
       "           NPHI_LS         RHOB  \n",
       "count  2919.000000  2919.000000  \n",
       "mean      0.380029     2.206859  \n",
       "std       0.052755     0.092249  \n",
       "min       0.119630     1.696000  \n",
       "25%       0.346190     2.174000  \n",
       "50%       0.380370     2.219000  \n",
       "75%       0.416020     2.256000  \n",
       "max       0.523440     2.719000  "
      ]
     },
     "execution_count": 13,
     "metadata": {},
     "output_type": "execute_result"
    }
   ],
   "source": [
    "well.describe()"
   ]
  },
  {
   "cell_type": "code",
   "execution_count": 14,
   "metadata": {},
   "outputs": [
    {
     "name": "stdout",
     "output_type": "stream",
     "text": [
      "         CALI       DT      GR    ILD   MSFL  NPHI_LS   RHOB  VSHALE     PHI  \\\n",
      "DEPTH                                                                          \n",
      "3338.0  8.617  123.625  88.812  1.006  1.292  0.48193  2.264  0.8678  0.2339   \n",
      "3338.5  8.562  116.875  79.500  1.182  1.258  0.46924  2.320  0.7119  0.2000   \n",
      "3339.0  8.594  100.000  68.562  1.417  1.250  0.37354  2.408  0.5289  0.1467   \n",
      "3339.5  8.492   83.938  51.500  1.742  1.430  0.21143  2.562  0.2433  0.0533   \n",
      "3340.0  8.297   65.750  33.844  2.174  7.311  0.13428  2.668 -0.0522 -0.0109   \n",
      "\n",
      "              rw   SW  \n",
      "DEPTH                  \n",
      "3338.0  0.233650  1.0  \n",
      "3338.5  0.260260  1.0  \n",
      "3339.0  0.197717  1.0  \n",
      "3339.5  0.077872  1.0  \n",
      "3340.0  0.039200  1.0  \n"
     ]
    }
   ],
   "source": [
    "print(KujungFM.head())"
   ]
  },
  {
   "cell_type": "markdown",
   "metadata": {},
   "source": [
    "## Data Handling"
   ]
  },
  {
   "cell_type": "markdown",
   "metadata": {},
   "source": [
    "- ***explore the statistical information of the SW and RW log***\n",
    "- ***compare the mean and the standard deviation of each log from the pandas result***\n",
    "- ***visualize using histogram, boxplot, etc***"
   ]
  },
  {
   "cell_type": "code",
   "execution_count": 15,
   "metadata": {},
   "outputs": [],
   "source": [
    "las.set_data(KujungFM)\n",
    "las.write(\"kujung.las\",version=2.0)"
   ]
  },
  {
   "cell_type": "code",
   "execution_count": 20,
   "metadata": {},
   "outputs": [
    {
     "name": "stdout",
     "output_type": "stream",
     "text": [
      "826\n",
      "[[ 3.33900e+03  8.59400e+00  1.00000e+02 ...  1.46700e-01  1.97720e-01\n",
      "   1.00000e+00]\n",
      " [ 3.33950e+03  8.49200e+00  8.39380e+01 ...  5.33000e-02  7.78700e-02\n",
      "   1.00000e+00]\n",
      " [ 3.34000e+03  8.29700e+00  6.57500e+01 ... -1.09000e-02  3.92000e-02\n",
      "   1.00000e+00]\n",
      " ...\n",
      " [ 3.75050e+03  8.68000e+00  1.30875e+02 ...  2.86100e-01  1.50670e-01\n",
      "   1.00000e+00]\n",
      " [ 3.75100e+03  8.72700e+00  1.29375e+02 ...  2.82400e-01  1.38210e-01\n",
      "   1.00000e+00]\n",
      " [ 3.75150e+03  8.63300e+00  1.29500e+02 ...  2.78200e-01  1.26190e-01\n",
      "   1.00000e+00]]\n"
     ]
    }
   ],
   "source": [
    "import warnings\n",
    "warnings.filterwarnings('ignore')\n",
    "\n",
    "import numpy as np\n",
    "import matplotlib.pyplot as plt\n",
    "import pandas as pd \n",
    "\n",
    "file = 'kujung.las'\n",
    "data = np.loadtxt(file,skiprows=40)\n",
    "#this command, convert the ascii file to a num\n",
    "data[data==-999.2500]=np.nan\n",
    "print(len(data))\n",
    "print(data)"
   ]
  },
  {
   "cell_type": "code",
   "execution_count": 22,
   "metadata": {},
   "outputs": [
    {
     "name": "stdout",
     "output_type": "stream",
     "text": [
      "      DEPTH   CALI       DT      GR    ILD    MSFL     NPHI   RHOB  VSHALE  \\\n",
      "0    3339.0  8.594  100.000  68.562  1.417   1.250  0.37354  2.408  0.5289   \n",
      "1    3339.5  8.492   83.938  51.500  1.742   1.430  0.21143  2.562  0.2433   \n",
      "2    3340.0  8.297   65.750  33.844  2.174   7.311  0.13428  2.668 -0.0522   \n",
      "3    3340.5  8.227   57.625  21.891  2.887  36.021  0.11963  2.719 -0.2523   \n",
      "4    3341.0  8.227   59.500  17.641  3.887  41.156  0.12842  2.709 -0.3234   \n",
      "..      ...    ...      ...     ...    ...     ...      ...    ...     ...   \n",
      "821  3749.5  8.555  130.625  85.000  0.773   0.873  0.43115  2.184  0.8040   \n",
      "822  3750.0  8.648  130.875  87.500  0.772   0.891  0.43164  2.170  0.8458   \n",
      "823  3750.5  8.680  130.875  86.250  0.775   1.158  0.44092  2.178  0.8249   \n",
      "824  3751.0  8.727  129.375  89.188  0.773   1.072  0.42285  2.184  0.8741   \n",
      "825  3751.5  8.633  129.500  89.688  0.772   1.035  0.40430  2.191  0.8825   \n",
      "\n",
      "        PHI       RW   SW  \n",
      "0    0.1467  0.19772  1.0  \n",
      "1    0.0533  0.07787  1.0  \n",
      "2   -0.0109  0.03920  1.0  \n",
      "3   -0.0418  0.04132  1.0  \n",
      "4   -0.0358  0.06410  1.0  \n",
      "..      ...      ...  ...  \n",
      "821  0.2824  0.14369  1.0  \n",
      "822  0.2909  0.14383  1.0  \n",
      "823  0.2861  0.15067  1.0  \n",
      "824  0.2824  0.13821  1.0  \n",
      "825  0.2782  0.12619  1.0  \n",
      "\n",
      "[826 rows x 12 columns]\n"
     ]
    }
   ],
   "source": [
    "header=['DEPTH','CALI','DT','GR','ILD','MSFL','NPHI','RHOB','VSHALE','PHI','RW','SW']\n",
    "data=pd.DataFrame(data,columns=header)\n",
    "#we convert the array to a pandas datafram\n",
    "print(data)"
   ]
  },
  {
   "cell_type": "code",
   "execution_count": 24,
   "metadata": {},
   "outputs": [
    {
     "name": "stdout",
     "output_type": "stream",
     "text": [
      "mean for all variables in data: \n",
      "DEPTH     3545.250000\n",
      "CALI         8.588908\n",
      "DT         118.733051\n",
      "GR          76.324925\n",
      "ILD          1.109207\n",
      "MSFL         1.744936\n",
      "NPHI         0.381542\n",
      "RHOB         2.225691\n",
      "VSHALE       0.658785\n",
      "PHI          0.257155\n",
      "RW           0.154451\n",
      "SW           1.000000\n",
      "dtype: float64\n",
      "\n",
      "median for all variables in data: \n",
      "DEPTH     3545.250000\n",
      "CALI         8.535000\n",
      "DT         119.375000\n",
      "GR          79.750000\n",
      "ILD          1.061000\n",
      "MSFL         1.344500\n",
      "NPHI         0.387700\n",
      "RHOB         2.229500\n",
      "VSHALE       0.716100\n",
      "PHI          0.254850\n",
      "RW           0.151965\n",
      "SW           1.000000\n",
      "dtype: float64\n"
     ]
    }
   ],
   "source": [
    "print('mean for all variables in data: \\n'+str(data.mean())+'\\n')\n",
    "print('median for all variables in data: \\n'+str(data.median()))"
   ]
  },
  {
   "cell_type": "code",
   "execution_count": 25,
   "metadata": {},
   "outputs": [
    {
     "name": "stdout",
     "output_type": "stream",
     "text": [
      "range for all variables in data: \n",
      "DEPTH     412.50000\n",
      "CALI        2.74200\n",
      "DT         98.62500\n",
      "GR         83.54700\n",
      "ILD         5.44100\n",
      "MSFL       42.36900\n",
      "NPHI        0.36670\n",
      "RHOB        0.84400\n",
      "VSHALE      1.39830\n",
      "PHI         0.51150\n",
      "RW          0.30408\n",
      "SW          0.00000\n",
      "dtype: float64\n",
      "\n",
      "variance for all variables in data: \n",
      "DEPTH     14231.291667\n",
      "CALI          0.115905\n",
      "DT          148.017596\n",
      "GR          181.155075\n",
      "ILD           0.167083\n",
      "MSFL         10.662063\n",
      "NPHI          0.002889\n",
      "RHOB          0.005117\n",
      "VSHALE        0.050750\n",
      "PHI           0.001880\n",
      "RW            0.001021\n",
      "SW            0.000000\n",
      "dtype: float64\n",
      "\n",
      "standard deviation for all variables in data: \n",
      "DEPTH     119.294978\n",
      "CALI        0.340449\n",
      "DT         12.166248\n",
      "GR         13.459386\n",
      "ILD         0.408757\n",
      "MSFL        3.265281\n",
      "NPHI        0.053748\n",
      "RHOB        0.071533\n",
      "VSHALE      0.225277\n",
      "PHI         0.043353\n",
      "RW          0.031947\n",
      "SW          0.000000\n",
      "dtype: float64\n"
     ]
    }
   ],
   "source": [
    "print('range for all variables in data: \\n'+str(data.max()-data.min())+'\\n')\n",
    "print('variance for all variables in data: \\n'+str(data.var())+'\\n')\n",
    "print('standard deviation for all variables in data: \\n'+str(data.std()))"
   ]
  },
  {
   "cell_type": "code",
   "execution_count": 27,
   "metadata": {},
   "outputs": [],
   "source": [
    "import matplotlib.pyplot as plt\n",
    "%matplotlib inline\n",
    "import seaborn as sns"
   ]
  },
  {
   "cell_type": "code",
   "execution_count": 30,
   "metadata": {},
   "outputs": [
    {
     "data": {
      "image/png": "[encoded data removed]",
      "text/plain": [
       "<Figure size 432x288 with 1 Axes>"
      ]
     },
     "metadata": {
      "needs_background": "light"
     },
     "output_type": "display_data"
    }
   ],
   "source": [
    "sns.boxplot(data['RW'])\n",
    "plt.show()"
   ]
  },
  {
   "cell_type": "code",
   "execution_count": 31,
   "metadata": {},
   "outputs": [
    {
     "data": {
      "image/png": "[encoded data removed]",
      "text/plain": [
       "<Figure size 432x288 with 1 Axes>"
      ]
     },
     "metadata": {
      "needs_background": "light"
     },
     "output_type": "display_data"
    }
   ],
   "source": [
    "sns.boxplot(data['SW'])\n",
    "plt.show()"
   ]
  },
  {
   "cell_type": "code",
   "execution_count": 38,
   "metadata": {},
   "outputs": [
    {
     "data": {
      "image/png": "[encoded data removed]",
      "text/plain": [
       "<Figure size 432x288 with 1 Axes>"
      ]
     },
     "metadata": {
      "needs_background": "light"
     },
     "output_type": "display_data"
    }
   ],
   "source": [
    "sns.distplot(data['RW'],bins=4)\n",
    "plt.show()"
   ]
  },
  {
   "cell_type": "code",
   "execution_count": 39,
   "metadata": {},
   "outputs": [
    {
     "data": {
      "image/png": "[encoded data removed]",
      "text/plain": [
       "<Figure size 432x288 with 1 Axes>"
      ]
     },
     "metadata": {
      "needs_background": "light"
     },
     "output_type": "display_data"
    }
   ],
   "source": [
    "sns.distplot(data['SW'],bins=4)\n",
    "plt.show()"
   ]
  }
 ],
 "metadata": {
  "kernelspec": {
   "display_name": "Python 3",
   "language": "python",
   "name": "python3"
  },
  "language_info": {
   "codemirror_mode": {
    "name": "ipython",
    "version": 3
   },
   "file_extension": ".py",
   "mimetype": "text/x-python",
   "name": "python",
   "nbconvert_exporter": "python",
   "pygments_lexer": "ipython3",
   "version": "3.7.6"
  }
 },
 "nbformat": 4,
 "nbformat_minor": 4
}
